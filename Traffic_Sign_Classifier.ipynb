{
 "cells": [
  {
   "cell_type": "markdown",
   "metadata": {},
   "source": [
    "# Self-Driving Car Engineer Nanodegree\n",
    "\n",
    "\n",
    "## Project: Build a Traffic Sign Recognition Classifier\n"
   ]
  },
  {
   "cell_type": "markdown",
   "metadata": {},
   "source": [
    "## Imports"
   ]
  },
  {
   "cell_type": "code",
   "execution_count": null,
   "metadata": {
    "collapsed": true
   },
   "outputs": [],
   "source": [
    "import matplotlib.image as mpimg\n",
    "import pickle # Load pickled data\n",
    "import pdb; # debugging\n",
    "import numpy as np\n",
    "import random \n",
    "import matplotlib.pyplot as plt\n",
    "import pandas as pd\n",
    "import tensorflow as tf\n",
    "from sklearn.utils import shuffle\n",
    "from tensorflow.contrib.layers import flatten\n",
    "import cv2\n",
    "import math\n",
    "from sklearn import preprocessing\n",
    "import statistics\n",
    "from imgaug import augmenters as iaa\n",
    "import os\n",
    "# Visualizations will be shown in the notebook.\n",
    "%matplotlib inline"
   ]
  },
  {
   "cell_type": "markdown",
   "metadata": {},
   "source": [
    "## Helper Functions"
   ]
  },
  {
   "cell_type": "code",
   "execution_count": null,
   "metadata": {
    "collapsed": true
   },
   "outputs": [],
   "source": [
    "# images: array of images\n",
    "# title: Title of hte figure\n",
    "# num_disply: 0 means all of them\n",
    "def show_image(images, title=\"\",num_display=False,gray= False):\n",
    "    \n",
    "    image_len = num_display or len(images)\n",
    "    fig = plt.figure(figsize=(image_len*2, image_len*2))\n",
    "    random_index = random.sample(range(0, len(images)), image_len)\n",
    "\n",
    "    for i in range(image_len):\n",
    "        sub = fig.add_subplot(math.ceil(image_len/2), math.ceil(image_len/2), i + 1)\n",
    "        sub.set_title(title)\n",
    "        if gray:\n",
    "            sub.imshow(images[random_index[i]].reshape(32,32),cmap='gray')\n",
    "        else:\n",
    "            sub.imshow(images[random_index[i]])\n",
    "    \n",
    "    return 0\n",
    "        "
   ]
  },
  {
   "cell_type": "markdown",
   "metadata": {},
   "source": [
    "---\n",
    "## Step 0: Load The Data"
   ]
  },
  {
   "cell_type": "code",
   "execution_count": null,
   "metadata": {},
   "outputs": [],
   "source": [
    "\n",
    "# TODO: Fill this in based on where you saved the training and testing data\n",
    "training_file = \"./traffic-signs-data/train.p\"\n",
    "validation_file=\"./traffic-signs-data/valid.p\"\n",
    "testing_file = \"./traffic-signs-data/test.p\"\n",
    "\n",
    "with open(training_file, mode='rb') as f:\n",
    "    train = pickle.load(f)\n",
    "with open(validation_file, mode='rb') as f:\n",
    "    valid = pickle.load(f)\n",
    "with open(testing_file, mode='rb') as f:\n",
    "    test = pickle.load(f)\n",
    "\n",
    "# pdb.set_trace() \n",
    "\n",
    "X_train_original, y_train_original = train['features'], train['labels']\n",
    "X_valid_original, y_valid_original = valid['features'], valid['labels']\n",
    "X_test_original, y_test_original = test['features'], test['labels']\n",
    "\n",
    "print(\"Data Loaded.\")"
   ]
  },
  {
   "cell_type": "markdown",
   "metadata": {},
   "source": [
    "---\n",
    "\n",
    "## Step 1: Dataset Summary & Exploration\n",
    "\n",
    "The pickled data is a dictionary with 4 key/value pairs:\n",
    "\n",
    "- `'features'` is a 4D array containing raw pixel data of the traffic sign images, (num examples, width, height, channels).\n",
    "- `'labels'` is a 1D array containing the label/class id of the traffic sign. The file `signnames.csv` contains id -> name mappings for each id.\n",
    "- `'sizes'` is a list containing tuples, (width, height) representing the original width and height the image.\n",
    "- `'coords'` is a list containing tuples, (x1, y1, x2, y2) representing coordinates of a bounding box around the sign in the image. **THESE COORDINATES ASSUME THE ORIGINAL IMAGE. THE PICKLED DATA CONTAINS RESIZED VERSIONS (32 by 32) OF THESE IMAGES**\n",
    " "
   ]
  },
  {
   "cell_type": "markdown",
   "metadata": {},
   "source": [
    "### Provide a Basic Summary of the Data Set Using Python, Numpy and/or Pandas"
   ]
  },
  {
   "cell_type": "code",
   "execution_count": null,
   "metadata": {},
   "outputs": [],
   "source": [
    "### Replace each question mark with the appropriate value. \n",
    "### Use python, pandas or numpy methods rather than hard coding the results\n",
    "# TODO: Number of training examples\n",
    "n_train = len(X_train_original)\n",
    "\n",
    "# TODO: Number of validation examples\n",
    "n_validation = X_valid_original.shape[0] # has num of example\n",
    "\n",
    "# TODO: Number of testing examples.\n",
    "n_test =  len(X_test_original)\n",
    "\n",
    "# TODO: What's the shape of an traffic sign image?\n",
    "image_shape = X_train_original.shape[1:]\n",
    "\n",
    "\n",
    "# TODO: How many unique classes/labels there are in the dataset.\n",
    "## since the labels are the same for training validation and test, I choose validation data because it has less data\n",
    "n_classes = len(np.unique(y_valid_original))\n",
    "\n",
    "\n",
    "print(\"Number of training examples =\", n_train)\n",
    "print(\"Number of validation examples =\", n_validation)\n",
    "print(\"Number of testing examples =\", n_test)\n",
    "print(\"Total examples =\", n_test + n_validation + n_train )\n",
    "print(\"Image data shape =\", image_shape)\n",
    "print(\"Number of classes =\", n_classes)\n",
    "\n"
   ]
  },
  {
   "cell_type": "markdown",
   "metadata": {},
   "source": [
    "### Organized images based on their labels"
   ]
  },
  {
   "cell_type": "code",
   "execution_count": null,
   "metadata": {},
   "outputs": [],
   "source": [
    "count_of_each_sign =  pd.Series.value_counts(train['labels'])\n",
    "\n",
    "# organized train data by each labels\n",
    "def organizing_train_data():\n",
    "    output = {}\n",
    "    indice = {}\n",
    "    \n",
    "    for key,value in count_of_each_sign.iteritems():\n",
    "        indice[key] = [i for i, x in enumerate(train['labels']) if x == key]\n",
    "        output[key] = {'features': train['features'][indice[key]], \n",
    "                       'sizes': train['sizes'][indice[key]],\n",
    "                       'length': len(indice[key]),\n",
    "                       '!augment': train['features'][indice[key]], # to be used later\n",
    "                       'augment': np.empty(shape=(0, 32, 32, 3)) # to be used later\n",
    "                      }\n",
    "    \n",
    "    # check data is correct organized\n",
    "    for key , value in output.items():\n",
    "        image = value['features']\n",
    "        assert(len(image) == len(value['sizes']))\n",
    "        assert(len(image) == value['length'])\n",
    "        for i in range(len(image)):\n",
    "            assert(np.array_equal(image[i], train['features'][indice[key][i]]) )\n",
    "            assert(np.array_equal( value['sizes'][i], train['sizes'][indice[key][i]]))\n",
    "\n",
    "    \n",
    "    return output\n",
    "\n",
    "organized_train_data = organizing_train_data()\n",
    "\n",
    "\n",
    "print(\"data organized\")"
   ]
  },
  {
   "cell_type": "markdown",
   "metadata": {},
   "source": [
    "### Include an exploratory visualization of the dataset"
   ]
  },
  {
   "cell_type": "markdown",
   "metadata": {},
   "source": [
    "Visualize the German Traffic Signs Dataset using the pickled file(s). This is open ended, suggestions include: plotting traffic sign images, plotting the count of each sign, etc. \n",
    "\n",
    "The [Matplotlib](http://matplotlib.org/) [examples](http://matplotlib.org/examples/index.html) and [gallery](http://matplotlib.org/gallery.html) pages are a great resource for doing visualizations in Python.\n"
   ]
  },
  {
   "cell_type": "code",
   "execution_count": null,
   "metadata": {},
   "outputs": [],
   "source": [
    "df_train = pd.DataFrame([train], columns=train.keys())\n",
    "map_sign = pd.DataFrame.from_csv(path=\"./signnames.csv\")['SignName']\n",
    "# keys = [key for key,value in count_of_each_sign.items()]\n",
    "\n",
    "# plt.rcdefaults()\n",
    "# plt.bar(count_of_each_sign,keys,width=1,bottom=0,align='center')\n",
    "# plt.xlabel('images occurrnce')\n",
    "# plt.ylabel('sign IDs')\n",
    "# plt.title('Look at the order of the images')\n",
    "# plt.show()"
   ]
  },
  {
   "cell_type": "code",
   "execution_count": null,
   "metadata": {
    "collapsed": true
   },
   "outputs": [],
   "source": [
    "#  visualize an image from each class\n",
    "\n",
    "images = []\n",
    "titles = []\n",
    "for key,value in count_of_each_sign.iteritems():\n",
    "    images.append(random.choice(organized_train_data[key]['features']))\n",
    "    titles.append( map_sign[key] + \", # occurrence: \" + str(value) )\n",
    "\n",
    "\n",
    "fig, ax = plt.subplots(nrows=22, ncols=2,figsize=(15, 80))\n",
    "i = 0\n",
    "for row in ax:\n",
    "    for col in row:\n",
    "        col.set_title(titles[i],fontsize=12)\n",
    "        col.imshow(images[i])\n",
    "        i += 1\n",
    "        if (i == len(images)):\n",
    "            break\n"
   ]
  },
  {
   "cell_type": "markdown",
   "metadata": {},
   "source": [
    "## Augmentation data"
   ]
  },
  {
   "cell_type": "markdown",
   "metadata": {},
   "source": [
    "### Augmentation algorithem"
   ]
  },
  {
   "cell_type": "code",
   "execution_count": null,
   "metadata": {},
   "outputs": [],
   "source": [
    "# using the following library http://imgaug.readthedocs.io/en/latest/index.html\n",
    "def augment_data(images):\n",
    "    output = iaa.SomeOf(1,[\n",
    "        iaa.Affine(rotate=(-45, 45)),\n",
    "        iaa.CropAndPad(percent=(-0.25, 0.25)),\n",
    "        iaa.Dropout(p=(0, 0.25)),\n",
    "        iaa.Sequential([\n",
    "            iaa.ChangeColorspace(from_colorspace=\"RGB\", to_colorspace=\"HSV\"),\n",
    "            iaa.WithChannels(0, iaa.Add((50, 100))),\n",
    "            iaa.ChangeColorspace(from_colorspace=\"HSV\", to_colorspace=\"RGB\"),\n",
    "            iaa.Dropout(p=(0, 0.15))\n",
    "        ])\n",
    "    ])  \n",
    "        \n",
    "    return  output.augment_images(images)\n",
    "\n",
    "index = random.randint(0, n_train)\n",
    "\n",
    "image = train[\"features\"][index:index+1]\n",
    "show_image(image,\"Original\")\n",
    "aug_img = augment_data(image)\n",
    "show_image(aug_img,\"Augment\")"
   ]
  },
  {
   "cell_type": "markdown",
   "metadata": {},
   "source": [
    "### Augmentation Helepr Functions"
   ]
  },
  {
   "cell_type": "code",
   "execution_count": null,
   "metadata": {
    "collapsed": true
   },
   "outputs": [],
   "source": [
    "\n",
    "# check each image label if it eligible to augment\n",
    "# this method used the mean of the occurrence of images for each label.\n",
    "# an example, the mean of the training dataset is xxx .\n",
    "def  lebel_eligible_to_augment(image_occurrence_in_train,mean_of_occurrence_of_signs):\n",
    "    \n",
    "    # to maintain the varince \n",
    "    if mean_of_occurrence_of_signs - (image_occurrence_in_train * 1.05) > 1:\n",
    "         return True\n",
    "        \n",
    "    return False \n",
    "\n",
    "# check original image size if grather than 32 width and height then the image is eligible\n",
    "def images_eligible_to_augment(images,sizes):\n",
    "    output = {'features':[],'sizes': []}\n",
    "    for i in range(len(images)):\n",
    "        # width and hight\n",
    "        if sizes[i][0] >32 and sizes[i][1] >32:\n",
    "            output['features'].append(images[i])\n",
    "            output['sizes'].append(sizes[i])\n",
    "    \n",
    "    return output\n",
    "            \n",
    "    "
   ]
  },
  {
   "cell_type": "markdown",
   "metadata": {},
   "source": [
    "### Apply Augmentation"
   ]
  },
  {
   "cell_type": "code",
   "execution_count": null,
   "metadata": {
    "collapsed": true
   },
   "outputs": [],
   "source": [
    "# run the training data \n",
    "def aug_train_data(organized_train_data,mean_of_occurrence_of_signs):\n",
    "    output = {}\n",
    "    for key, value in organized_train_data.items():\n",
    "        not_augment_images = value['!augment']   # only select images that were not augmented\n",
    "        sizes = value['sizes']\n",
    "        img_len = len(value['features'])\n",
    "        \n",
    "        if lebel_eligible_to_augment(img_len, mean_of_occurrence_of_signs):\n",
    "            # obtain images that should be augmented\n",
    "            eligible_data = images_eligible_to_augment(not_augment_images,sizes)\n",
    "            \n",
    "            aug_images = augment_data(eligible_data['features'])\n",
    "            \n",
    "            output[key] = {'features':np.concatenate((value['features'] , aug_images)),\n",
    "                           'augment': aug_images,\n",
    "                           '!augment':not_augment_images,\n",
    "                           'sizes': np.concatenate((sizes , eligible_data['sizes'])),\n",
    "                           'length': img_len + len(aug_images)\n",
    "                          }\n",
    "        else:\n",
    "             output[key] = {'features':value['features'],\n",
    "                           'augment': np.empty(shape=(0, 32, 32, 3)),\n",
    "                           '!augment':not_augment_images,\n",
    "                           'sizes': sizes,\n",
    "                           'length': img_len\n",
    "                          }\n",
    "    \n",
    "    \n",
    "    return output\n",
    "\n",
    "# convert data fromat to match the original dataset\n",
    "def prepare_data(organized_train_data):\n",
    "    output = {'features' : np.empty(shape=(0, 32, 32, 3)),\n",
    "              'labels': np.empty(shape=(0,)),\n",
    "              'sizes': np.empty(shape=(0,2))\n",
    "             }\n",
    "    \n",
    "    for key, value in organized_train_data.items():\n",
    "        images = value['features']\n",
    "        sizes = value['sizes']                                         \n",
    "        img_len = len(images)\n",
    "        output['features'] = np.concatenate((output['features'] , images))\n",
    "        output['labels']   = np.concatenate((output['labels']   , [key]*img_len ))\n",
    "        output['sizes']    = np.concatenate((output['sizes']    , sizes ))\n",
    "\n",
    "        \n",
    "    return output"
   ]
  },
  {
   "cell_type": "code",
   "execution_count": null,
   "metadata": {},
   "outputs": [],
   "source": [
    "# run augmentation multiple times\n",
    "def smart_augmentation(train_data,num_of_iter=2):\n",
    "    output = train_data\n",
    "    \n",
    "    for i in range(num_of_iter):\n",
    "        mean_of_occurrence_of_signs = statistics.mean([value['length'] for key,value in output.items()])\n",
    "        \n",
    "        output = aug_train_data(output,mean_of_occurrence_of_signs)\n",
    "    \n",
    "    # convert the dataset to have the same format as the original dataset\n",
    "    return prepare_data(output)      \n",
    "    \n",
    "# call the function  \n",
    "num_of_iter = 17\n",
    "a_train = smart_augmentation(organized_train_data,num_of_iter)\n",
    "aug_count_of_each_sign =  pd.Series.value_counts(a_train[\"labels\"])"
   ]
  },
  {
   "cell_type": "markdown",
   "metadata": {},
   "source": [
    "### New Date Info"
   ]
  },
  {
   "cell_type": "code",
   "execution_count": null,
   "metadata": {},
   "outputs": [],
   "source": [
    "print(\"Number of old training examples =\", train['features'].shape[0])\n",
    "print(\"Number of new training examples =\", a_train['features'].shape[0])\n",
    "print(\"Image data shape =\", a_train['features'].shape)\n",
    "print(\"old mean =\", statistics.mean(count_of_each_sign))\n",
    "print(\"new mean =\",statistics.mean(aug_count_of_each_sign))\n",
    "print(\"old variance =\", statistics.variance(count_of_each_sign))\n",
    "print(\"new variance =\", statistics.variance(aug_count_of_each_sign))\n",
    "\n",
    "print(\"#########################  number of each sign occurrence #########################\" )\n",
    "for key,value in aug_count_of_each_sign.iteritems():\n",
    "    print( str(key) + \"\\t occurrence =\" + str(value) + \"\\t\" +  map_sign[key] )"
   ]
  },
  {
   "cell_type": "markdown",
   "metadata": {},
   "source": [
    "----\n",
    "\n",
    "## Step 2: Design and Test a Model Architecture\n",
    "\n",
    "Design and implement a deep learning model that learns to recognize traffic signs. Train and test your model on the [German Traffic Sign Dataset](http://benchmark.ini.rub.de/?section=gtsrb&subsection=dataset).\n",
    "\n",
    "The LeNet-5 implementation shown in the [classroom](https://classroom.udacity.com/nanodegrees/nd013/parts/fbf77062-5703-404e-b60c-95b78b2f3f9e/modules/6df7ae49-c61c-4bb2-a23e-6527e69209ec/lessons/601ae704-1035-4287-8b11-e2c2716217ad/concepts/d4aca031-508f-4e0b-b493-e7b706120f81) at the end of the CNN lesson is a solid starting point. You'll have to change the number of classes and possibly the preprocessing, but aside from that it's plug and play! \n",
    "\n",
    "With the LeNet-5 solution from the lecture, you should expect a validation set accuracy of about 0.89. To meet specifications, the validation set accuracy will need to be at least 0.93. It is possible to get an even higher accuracy, but 0.93 is the minimum for a successful project submission. \n",
    "\n",
    "There are various aspects to consider when thinking about this problem:\n",
    "\n",
    "- Neural network architecture (is the network over or underfitting?)\n",
    "- Play around preprocessing techniques (normalization, rgb to grayscale, etc)\n",
    "- Number of examples per label (some have more than others).\n",
    "- Generate fake data.\n",
    "\n",
    "Here is an example of a [published baseline model on this problem](http://yann.lecun.com/exdb/publis/pdf/sermanet-ijcnn-11.pdf). It's not required to be familiar with the approach used in the paper but, it's good practice to try to read papers like these."
   ]
  },
  {
   "cell_type": "markdown",
   "metadata": {},
   "source": [
    "### Pre-process the Data Set (normalization, grayscale, etc.)"
   ]
  },
  {
   "cell_type": "markdown",
   "metadata": {},
   "source": [
    "Minimally, the image data should be normalized so that the data has mean zero and equal variance. For image data, `(pixel - 128)/ 128` is a quick way to approximately normalize the data and can be used in this project. \n",
    "\n",
    "Other pre-processing steps are optional. You can try different techniques to see if it improves performance. \n",
    "\n",
    "Use the code cell (or multiple code cells, if necessary) to implement the first step of your project."
   ]
  },
  {
   "cell_type": "markdown",
   "metadata": {},
   "source": [
    "###  Normalization"
   ]
  },
  {
   "cell_type": "code",
   "execution_count": null,
   "metadata": {
    "collapsed": true
   },
   "outputs": [],
   "source": [
    "# Taken from xxx\n",
    "# If a feature has a variance that is orders of magnitude larger than others, \n",
    "# it might dominate the objective function and make the estimator unable to learn from other features correctly as expected.\n",
    "def normlization(imgs):\n",
    "    # I did batches to overcome\n",
    "    # Cannot create a tensor proto whose content is larger than 2GB.\n",
    "    BATCH_SIZE = 4096\n",
    "    output = np.empty(shape=(0, 32, 32, 3))\n",
    "    \n",
    "    for offset in range(0, len(imgs), BATCH_SIZE):\n",
    "        end = offset + BATCH_SIZE\n",
    "        batch = imgs[offset:end] \n",
    "        tf.reset_default_graph() # to overcome GraphDef cannot be larger than 2GB.\n",
    "        \n",
    "        with tf.Session() as sess:\n",
    "            result = sess.run(tf.map_fn(tf.image.per_image_standardization,batch,dtype=tf.float32))\n",
    "            output = np.concatenate((output , result))\n",
    "    \n",
    "    return output"
   ]
  },
  {
   "cell_type": "markdown",
   "metadata": {},
   "source": [
    "###  RGB To Gray"
   ]
  },
  {
   "cell_type": "code",
   "execution_count": null,
   "metadata": {
    "collapsed": true
   },
   "outputs": [],
   "source": [
    "def rgb_to_gray(imgs): \n",
    "    # I did batches to overcome\n",
    "    # Cannot create a tensor proto whose content is larger than 2GB.\n",
    "    BATCH_SIZE = 4096\n",
    "    output = np.empty(shape=(0, 32, 32, 1))\n",
    "    \n",
    "    for offset in range(0, len(imgs), BATCH_SIZE):\n",
    "        end = offset + BATCH_SIZE\n",
    "        batch = imgs[offset:end] \n",
    "        tf.reset_default_graph() # to overcome GraphDef cannot be larger than 2GB.\n",
    "\n",
    "        with tf.Session() as sess:\n",
    "            result = sess.run(tf.image.rgb_to_grayscale(batch))\n",
    "            output = np.concatenate((output , result))\n",
    "               \n",
    "    return output"
   ]
  },
  {
   "cell_type": "markdown",
   "metadata": {},
   "source": [
    "### Apply Pre Process"
   ]
  },
  {
   "cell_type": "code",
   "execution_count": 2,
   "metadata": {},
   "outputs": [
    {
     "name": "stdout",
     "output_type": "stream",
     "text": [
      "data pre-process\n"
     ]
    }
   ],
   "source": [
    "def apply_pre_process(images):\n",
    "    \n",
    "    output = normlization(images)\n",
    "    output = rgb_to_gray(output)\n",
    "    return output\n",
    "\n",
    "# apply_pre_process\n",
    "y_train_pre_process = a_train[\"labels\"]\n",
    "x_train_pre_process = apply_pre_process(a_train[\"features\"])\n",
    "X_valid_pre_process = apply_pre_process(X_valid_original)\n",
    "\n",
    "\n",
    "print(\"data pre-process\")"
   ]
  },
  {
   "cell_type": "code",
   "execution_count": null,
   "metadata": {},
   "outputs": [],
   "source": [
    "# # Shuffle the training data.\n",
    "# to make sure\n",
    "x_train_ready, y_train_ready = shuffle(x_train_pre_process, y_train_pre_process)\n",
    "x_train_ready, y_train_ready = shuffle(x_train_ready, y_train_ready)\n",
    "x_train_ready, y_train_ready = shuffle(x_train_ready, y_train_ready)\n",
    "\n",
    "print('data shuffle')\n"
   ]
  },
  {
   "cell_type": "markdown",
   "metadata": {},
   "source": [
    "### Model Architecture"
   ]
  },
  {
   "cell_type": "code",
   "execution_count": null,
   "metadata": {
    "collapsed": true
   },
   "outputs": [],
   "source": [
    "### Define your architecture here.\n",
    "### Feel free to use as many code cells as needed.\n",
    "def LeNet(x): \n",
    "    dropout = .5 # since there is no a lot of data\n",
    "    # Arguments used for tf.truncated_normal, randomly defines variables for the weights and biases for each layer\n",
    "    mu = 0\n",
    "    sigma = 0.1\n",
    "    # Using the default mean and standard deviation from tf.truncated_normal() is fine. \n",
    "    # However, tuning these hyperparameters can result in better performance.\n",
    "    weights = {\n",
    "    'wc1': tf.Variable(tf.truncated_normal([5, 5, 1, 6], mean = mu, stddev = sigma),name='wc1'),\n",
    "    'wc2': tf.Variable(tf.truncated_normal([5, 5, 6, 16], mean = mu, stddev = sigma),name='wc2'),\n",
    "    'wd1': tf.Variable(tf.truncated_normal([400,120], mean = mu, stddev = sigma),name='wd1'),\n",
    "    'wd2': tf.Variable(tf.truncated_normal([120,84], mean = mu, stddev = sigma),name='wd2'),\n",
    "    'out': tf.Variable(tf.truncated_normal([84,43], mean = mu, stddev = sigma),name='out')}\n",
    "    biases = {\n",
    "    'bc1': tf.Variable(tf.zeros(6),name='bc1'),\n",
    "    'bc2': tf.Variable(tf.zeros(16),name='bc2'),\n",
    "    'bd1': tf.Variable(tf.zeros(120),name='bd1'),\n",
    "    'bd2': tf.Variable(tf.zeros(84),name='bd2'),\n",
    "    'out': tf.Variable(tf.zeros(43),name='out')}\n",
    "\n",
    "    # Layer 1: Convolutional. Input = 32x32x1. Output = 28x28x6.\n",
    "    x = tf.nn.conv2d(x, weights['wc1'], strides=[1, 1, 1, 1], padding='VALID')\n",
    "    x = tf.nn.bias_add(x, biases['bc1'])\n",
    "    #  Activation.\n",
    "    x = tf.nn.relu(x)\n",
    "    #  Pooling. Input = 28x28x6. Output = 14x14x6.\n",
    "    x = tf.nn.max_pool(\n",
    "        x,\n",
    "        ksize=[1, 2, 2, 1],\n",
    "        strides=[1, 2,2, 1],\n",
    "        padding='VALID')\n",
    "    #  Layer 2: Convolutional. Output = 10x10x16.\n",
    "    x = tf.nn.conv2d(x, weights['wc2'], strides=[1, 1, 1, 1], padding='VALID')\n",
    "    x = tf.nn.bias_add(x, biases['bc2'])\n",
    "    # Activation.\n",
    "    x = tf.nn.relu(x)\n",
    "    # Pooling. Input = 10x10x16. Output = 5x5x16.\n",
    "    x = tf.nn.max_pool(\n",
    "        x,\n",
    "        ksize=[1, 2, 2, 1],\n",
    "        strides=[1, 2,2, 1],\n",
    "        padding='VALID')\n",
    "    # Flatten. Input = 5x5x16. Output = 400.\n",
    "    x = tf.contrib.layers.flatten(x)\n",
    "    # Layer 3: Fully Connected. Input = 400. Output = 120.\n",
    "    x = tf.add(tf.matmul(x, weights['wd1']), biases['bd1'])\n",
    "    #  Activation.\n",
    "    x = tf.nn.relu(x)\n",
    "    #  Layer 4: Fully Connected. Input = 120. Output = 84.\n",
    "    x = tf.add(tf.matmul(x, weights['wd2']), biases['bd2'])\n",
    "    #  Activation.\n",
    "    x = tf.nn.relu(x)\n",
    "    x = tf.nn.dropout(x, dropout)\n",
    "    #  Layer 5: Fully Connected. Input = 84. Output = 43.\n",
    "    logits = tf.add(tf.matmul(x, weights['out']), biases['out'])\n",
    "    return logits"
   ]
  },
  {
   "cell_type": "markdown",
   "metadata": {},
   "source": [
    "### Train, Validate and Test the Model"
   ]
  },
  {
   "cell_type": "markdown",
   "metadata": {},
   "source": [
    "A validation set can be used to assess how well the model is performing. A low accuracy on the training and validation\n",
    "sets imply underfitting. A high accuracy on the training set but low accuracy on the validation set implies overfitting."
   ]
  },
  {
   "cell_type": "code",
   "execution_count": null,
   "metadata": {
    "collapsed": true
   },
   "outputs": [],
   "source": [
    "### Train your model here.\n",
    "### Calculate and report the accuracy on the training and validation set.\n",
    "### Once a final model architecture is selected, \n",
    "### the accuracy on the test set should be calculated and reported as well.\n",
    "### Feel free to use as many code cells as needed.\n",
    "x = tf.placeholder(tf.float32, (None, 32, 32, 1))\n",
    "y = tf.placeholder(tf.int32, (None))\n",
    "one_hot_y = tf.one_hot(y, 43)\n",
    "\n",
    "rate = 0.00\n",
    "\n",
    "logits = LeNet(x)\n",
    "cross_entropy = tf.nn.softmax_cross_entropy_with_logits(labels=one_hot_y, logits=logits)\n",
    "loss_operation = tf.reduce_mean(cross_entropy)\n",
    "optimizer = tf.train.AdamOptimizer(learning_rate = rate)\n",
    "training_operation = optimizer.minimize(loss_operation)"
   ]
  },
  {
   "cell_type": "code",
   "execution_count": null,
   "metadata": {},
   "outputs": [],
   "source": [
    "correct_prediction = tf.equal(tf.argmax(logits, 1), tf.argmax(one_hot_y, 1))\n",
    "accuracy_operation = tf.reduce_mean(tf.cast(correct_prediction, tf.float32))\n",
    "saver = tf.train.Saver()\n",
    "BATCH_SIZE = 128\n",
    "def evaluate(X_data, y_data):\n",
    "    num_examples = len(X_data)\n",
    "    total_accuracy = 0\n",
    "    sess = tf.get_default_session()\n",
    "    for offset in range(0, num_examples, BATCH_SIZE):\n",
    "        batch_x, batch_y = X_data[offset:offset+BATCH_SIZE], y_data[offset:offset+BATCH_SIZE]\n",
    "        accuracy = sess.run(accuracy_operation, feed_dict={x: batch_x, y: batch_y})\n",
    "        total_accuracy += (accuracy * len(batch_x))\n",
    "    return total_accuracy / num_examples"
   ]
  },
  {
   "cell_type": "code",
   "execution_count": null,
   "metadata": {},
   "outputs": [],
   "source": [
    "EPOCHS = 75\n",
    "y_accuracy_label = []\n",
    "with tf.Session() as sess:\n",
    "    sess.run(tf.global_variables_initializer())\n",
    "    num_examples = x_train_ready.shape[0]\n",
    "    \n",
    "    print(\"Training...\")\n",
    "    print()\n",
    "    for i in range(EPOCHS):\n",
    "        x_train_ready, y_train_ready = shuffle(x_train_ready, y_train_ready)\n",
    "        for offset in range(0, num_examples, BATCH_SIZE):\n",
    "            end = offset + BATCH_SIZE\n",
    "            batch_x, batch_y = x_train_ready[offset:end], y_train_ready[offset:end]\n",
    "            sess.run(training_operation, feed_dict={x: batch_x, y: batch_y})\n",
    "           \n",
    "        validation_accuracy = evaluate(X_valid_pre_process, y_valid_original)\n",
    "        y_accuracy_label.append(validation_accuracy)\n",
    "        print(\"EPOCH {} ...\".format(i+1))\n",
    "        print(\"Validation Accuracy = {:.3f}\".format(validation_accuracy))\n",
    "        \n",
    "        print()\n",
    "        \n",
    "    saver.save(sess, './lenet')\n",
    "    print(\"Model saved\")\n",
    "\n"
   ]
  },
  {
   "cell_type": "code",
   "execution_count": null,
   "metadata": {},
   "outputs": [],
   "source": [
    "x_epoch_label = [i + 1 for i in range(0,EPOCHS)]\n",
    "plt.plot(x_epoch_label,1 - np.array(y_accuracy_label))\n",
    "plt.xlabel('Epoch')\n",
    "plt.ylabel('Accuracy')\n",
    "plt.title('Cost')\n",
    "plt.show()\n"
   ]
  },
  {
   "cell_type": "code",
   "execution_count": 1,
   "metadata": {},
   "outputs": [
    {
     "ename": "NameError",
     "evalue": "name 'apply_pre_process' is not defined",
     "output_type": "error",
     "traceback": [
      "\u001b[0;31m---------------------------------------------------------------------------\u001b[0m",
      "\u001b[0;31mNameError\u001b[0m                                 Traceback (most recent call last)",
      "\u001b[0;32m<ipython-input-1-4e30a43a9bd8>\u001b[0m in \u001b[0;36m<module>\u001b[0;34m()\u001b[0m\n\u001b[0;32m----> 1\u001b[0;31m \u001b[0mX_test\u001b[0m \u001b[0;34m=\u001b[0m \u001b[0mapply_pre_process\u001b[0m\u001b[0;34m(\u001b[0m\u001b[0mX_test_original\u001b[0m\u001b[0;34m)\u001b[0m\u001b[0;34m\u001b[0m\u001b[0m\n\u001b[0m\u001b[1;32m      2\u001b[0m \u001b[0;32mwith\u001b[0m \u001b[0mtf\u001b[0m\u001b[0;34m.\u001b[0m\u001b[0mSession\u001b[0m\u001b[0;34m(\u001b[0m\u001b[0;34m)\u001b[0m \u001b[0;32mas\u001b[0m \u001b[0msess\u001b[0m\u001b[0;34m:\u001b[0m\u001b[0;34m\u001b[0m\u001b[0m\n\u001b[1;32m      3\u001b[0m     \u001b[0msaver\u001b[0m\u001b[0;34m.\u001b[0m\u001b[0mrestore\u001b[0m\u001b[0;34m(\u001b[0m\u001b[0msess\u001b[0m\u001b[0;34m,\u001b[0m \u001b[0mtf\u001b[0m\u001b[0;34m.\u001b[0m\u001b[0mtrain\u001b[0m\u001b[0;34m.\u001b[0m\u001b[0mlatest_checkpoint\u001b[0m\u001b[0;34m(\u001b[0m\u001b[0;34m'.'\u001b[0m\u001b[0;34m)\u001b[0m\u001b[0;34m)\u001b[0m\u001b[0;34m\u001b[0m\u001b[0m\n\u001b[1;32m      4\u001b[0m \u001b[0;34m\u001b[0m\u001b[0m\n\u001b[1;32m      5\u001b[0m     \u001b[0mtest_accuracy\u001b[0m \u001b[0;34m=\u001b[0m \u001b[0mevaluate\u001b[0m\u001b[0;34m(\u001b[0m\u001b[0mX_test\u001b[0m\u001b[0;34m,\u001b[0m \u001b[0my_test\u001b[0m\u001b[0;34m)\u001b[0m\u001b[0;34m\u001b[0m\u001b[0m\n",
      "\u001b[0;31mNameError\u001b[0m: name 'apply_pre_process' is not defined"
     ]
    }
   ],
   "source": [
    "X_test = apply_pre_process(X_test_original)\n",
    "with tf.Session() as sess:\n",
    "    saver.restore(sess, tf.train.latest_checkpoint('.'))\n",
    "    \n",
    "    test_accuracy = evaluate(X_test, y_test)\n",
    "    print(\"Test Accuracy = {:.3f}\".format(test_accuracy))"
   ]
  },
  {
   "cell_type": "markdown",
   "metadata": {},
   "source": [
    "---\n",
    "\n",
    "## Step 3: Test a Model on New Images\n",
    "\n",
    "To give yourself more insight into how your model is working, download at least five pictures of German traffic signs from the web and use your model to predict the traffic sign type.\n",
    "\n",
    "You may find `signnames.csv` useful as it contains mappings from the class id (integer) to the actual sign name."
   ]
  },
  {
   "cell_type": "markdown",
   "metadata": {},
   "source": [
    "### Load and Output the Images"
   ]
  },
  {
   "cell_type": "code",
   "execution_count": null,
   "metadata": {
    "collapsed": true
   },
   "outputs": [],
   "source": [
    "### Load the images and plot them here.\n",
    "### Feel free to use as many code cells as needed.\n",
    "# taken from https://en.wikipedia.org/wiki/Road_signs_in_Germany\n",
    "dirname = \"test_images/\"\n",
    "test_images_path =   [s for s in os.listdir(dirname) if s.endswith('.png')]\n",
    "y_images = []\n",
    "x_images = []\n",
    "for img_path in test_images_path:\n",
    "    img = mpimg.imread(dirname + img_path)\n",
    "    # convert from 4 channel to 3\n",
    "    img = cv2.cvtColor(img,cv2.COLOR_RGBA2RGB)\n",
    "    width = img.shape[0]\n",
    "    height = img.shape[1]\n",
    "    if (width or height) < 32:\n",
    "        pad_width = int(( 32 - width) / 2)\n",
    "        pad_height = int((32 - height) /2)\n",
    "        # Pad images with 0s\n",
    "        img = np.pad(img, ((pad_width,pad_width),(pad_height,pad_height),(0,0)), 'constant')\n",
    "    \n",
    "    x_images.append(img)\n",
    "    y_images.append(img_path.split('_')[0])\n",
    "\n",
    "x_images = np.array(x_images)\n",
    "y_images = np.array(y_images)\n",
    "print(y_images)\n",
    "show_image(x_images)"
   ]
  },
  {
   "cell_type": "markdown",
   "metadata": {},
   "source": [
    "### Predict the Sign Type for Each Image"
   ]
  },
  {
   "cell_type": "code",
   "execution_count": null,
   "metadata": {
    "collapsed": true
   },
   "outputs": [],
   "source": [
    "### Run the predictions here and use the model to output the prediction for each image.\n",
    "### Make sure to pre-process the images with the same pre-processing pipeline used earlier.\n",
    "### Feel free to use as many code cells as needed.\n",
    "x_images_ready = apply_pre_process(x_images)\n",
    "softmax_probabilities = []\n",
    "with tf.Session() as sess:\n",
    "    saver.restore(sess, tf.train.latest_checkpoint('.'))\n",
    "   # new_images_test_accuracy = evaluate(x_images_ready, y_images)\n",
    "    for img in x_images_ready:\n",
    "        #accuracy = sess.run(tf.argmax(logits, 1), feed_dict={x: [img]})\n",
    "        softmax_probabilities.append( sess.run(logits, feed_dict={x: [img]}))\n",
    "        print(softmax_probabilities)\n",
    "       # show_image([img],title=map_sign[accuracy],gray=True)\n",
    "\n"
   ]
  },
  {
   "cell_type": "markdown",
   "metadata": {},
   "source": [
    "### Analyze Performance"
   ]
  },
  {
   "cell_type": "code",
   "execution_count": null,
   "metadata": {
    "collapsed": true
   },
   "outputs": [],
   "source": [
    "### Calculate the accuracy for these 5 new images. \n",
    "### For example, if the model predicted 1 out of 5 signs correctly, it's 20% accurate on these new images.\n",
    "print(\"Test Accuracy = {:.3f}\".format(new_images_test_accuracy))\n"
   ]
  },
  {
   "cell_type": "markdown",
   "metadata": {},
   "source": [
    "### Output Top 5 Softmax Probabilities For Each Image Found on the Web"
   ]
  },
  {
   "cell_type": "markdown",
   "metadata": {},
   "source": [
    "For each of the new images, print out the model's softmax probabilities to show the **certainty** of the model's predictions (limit the output to the top 5 probabilities for each image). [`tf.nn.top_k`](https://www.tensorflow.org/versions/r0.12/api_docs/python/nn.html#top_k) could prove helpful here. \n",
    "\n",
    "The example below demonstrates how tf.nn.top_k can be used to find the top k predictions for each image.\n",
    "\n",
    "`tf.nn.top_k` will return the values and indices (class ids) of the top k predictions. So if k=3, for each sign, it'll return the 3 largest probabilities (out of a possible 43) and the correspoding class ids.\n",
    "\n",
    "Take this numpy array as an example. The values in the array represent predictions. The array contains softmax probabilities for five candidate images with six possible classes. `tf.nn.top_k` is used to choose the three classes with the highest probability:\n",
    "\n",
    "```\n",
    "# (5, 6) array\n",
    "a = np.array([[ 0.24879643,  0.07032244,  0.12641572,  0.34763842,  0.07893497,\n",
    "         0.12789202],\n",
    "       [ 0.28086119,  0.27569815,  0.08594638,  0.0178669 ,  0.18063401,\n",
    "         0.15899337],\n",
    "       [ 0.26076848,  0.23664738,  0.08020603,  0.07001922,  0.1134371 ,\n",
    "         0.23892179],\n",
    "       [ 0.11943333,  0.29198961,  0.02605103,  0.26234032,  0.1351348 ,\n",
    "         0.16505091],\n",
    "       [ 0.09561176,  0.34396535,  0.0643941 ,  0.16240774,  0.24206137,\n",
    "         0.09155967]])\n",
    "```\n",
    "\n",
    "Running it through `sess.run(tf.nn.top_k(tf.constant(a), k=3))` produces:\n",
    "\n",
    "```\n",
    "TopKV2(values=array([[ 0.34763842,  0.24879643,  0.12789202],\n",
    "       [ 0.28086119,  0.27569815,  0.18063401],\n",
    "       [ 0.26076848,  0.23892179,  0.23664738],\n",
    "       [ 0.29198961,  0.26234032,  0.16505091],\n",
    "       [ 0.34396535,  0.24206137,  0.16240774]]), indices=array([[3, 0, 5],\n",
    "       [0, 1, 4],\n",
    "       [0, 5, 1],\n",
    "       [1, 3, 5],\n",
    "       [1, 4, 3]], dtype=int32))\n",
    "```\n",
    "\n",
    "Looking just at the first row we get `[ 0.34763842,  0.24879643,  0.12789202]`, you can confirm these are the 3 largest probabilities in `a`. You'll also notice `[3, 0, 5]` are the corresponding indices."
   ]
  },
  {
   "cell_type": "code",
   "execution_count": null,
   "metadata": {
    "collapsed": true
   },
   "outputs": [],
   "source": [
    "### Print out the top five softmax probabilities for the predictions on the German traffic sign images found on the web. \n",
    "### Feel free to use as many code cells as needed.\n",
    "#x = tf.nn.softmax([2.0, 1.0, 0.2])\n",
    "print(softmax_probabilities)\n"
   ]
  },
  {
   "cell_type": "markdown",
   "metadata": {},
   "source": [
    "### Project Writeup\n",
    "\n",
    "Once you have completed the code implementation, document your results in a project writeup using this [template](https://github.com/udacity/CarND-Traffic-Sign-Classifier-Project/blob/master/writeup_template.md) as a guide. The writeup can be in a markdown or pdf file. "
   ]
  },
  {
   "cell_type": "markdown",
   "metadata": {},
   "source": [
    "> **Note**: Once you have completed all of the code implementations and successfully answered each question above, you may finalize your work by exporting the iPython Notebook as an HTML document. You can do this by using the menu above and navigating to  \\n\",\n",
    "    \"**File -> Download as -> HTML (.html)**. Include the finished document along with this notebook as your submission."
   ]
  },
  {
   "cell_type": "markdown",
   "metadata": {},
   "source": [
    "---\n",
    "\n",
    "## Step 4 (Optional): Visualize the Neural Network's State with Test Images\n",
    "\n",
    " This Section is not required to complete but acts as an additional excersise for understaning the output of a neural network's weights. While neural networks can be a great learning device they are often referred to as a black box. We can understand what the weights of a neural network look like better by plotting their feature maps. After successfully training your neural network you can see what it's feature maps look like by plotting the output of the network's weight layers in response to a test stimuli image. From these plotted feature maps, it's possible to see what characteristics of an image the network finds interesting. For a sign, maybe the inner network feature maps react with high activation to the sign's boundary outline or to the contrast in the sign's painted symbol.\n",
    "\n",
    " Provided for you below is the function code that allows you to get the visualization output of any tensorflow weight layer you want. The inputs to the function should be a stimuli image, one used during training or a new one you provided, and then the tensorflow variable name that represents the layer's state during the training process, for instance if you wanted to see what the [LeNet lab's](https://classroom.udacity.com/nanodegrees/nd013/parts/fbf77062-5703-404e-b60c-95b78b2f3f9e/modules/6df7ae49-c61c-4bb2-a23e-6527e69209ec/lessons/601ae704-1035-4287-8b11-e2c2716217ad/concepts/d4aca031-508f-4e0b-b493-e7b706120f81) feature maps looked like for it's second convolutional layer you could enter conv2 as the tf_activation variable.\n",
    "\n",
    "For an example of what feature map outputs look like, check out NVIDIA's results in their paper [End-to-End Deep Learning for Self-Driving Cars](https://devblogs.nvidia.com/parallelforall/deep-learning-self-driving-cars/) in the section Visualization of internal CNN State. NVIDIA was able to show that their network's inner weights had high activations to road boundary lines by comparing feature maps from an image with a clear path to one without. Try experimenting with a similar test to show that your trained network's weights are looking for interesting features, whether it's looking at differences in feature maps from images with or without a sign, or even what feature maps look like in a trained network vs a completely untrained one on the same sign image.\n",
    "\n",
    "<figure>\n",
    " <img src=\"visualize_cnn.png\" width=\"380\" alt=\"Combined Image\" />\n",
    " <figcaption>\n",
    " <p></p> \n",
    " <p style=\"text-align: center;\"> Your output should look something like this (above)</p> \n",
    " </figcaption>\n",
    "</figure>\n",
    " <p></p> \n"
   ]
  },
  {
   "cell_type": "code",
   "execution_count": null,
   "metadata": {
    "collapsed": true
   },
   "outputs": [],
   "source": [
    "### Visualize your network's feature maps here.\n",
    "### Feel free to use as many code cells as needed.\n",
    "\n",
    "# image_input: the test image being fed into the network to produce the feature maps\n",
    "# tf_activation: should be a tf variable name used during your training procedure that represents the calculated state of a specific weight layer\n",
    "# activation_min/max: can be used to view the activation contrast in more detail, by default matplot sets min and max to the actual min and max values of the output\n",
    "# plt_num: used to plot out multiple different weight feature map sets on the same block, just extend the plt number for each new feature map entry\n",
    "\n",
    "def outputFeatureMap(image_input, tf_activation, activation_min=-1, activation_max=-1 ,plt_num=1):\n",
    "    # Here make sure to preprocess your image_input in a way your network expects\n",
    "    # with size, normalization, ect if needed\n",
    "    # image_input =\n",
    "    # Note: x should be the same name as your network's tensorflow data placeholder variable\n",
    "    # If you get an error tf_activation is not defined it may be having trouble accessing the variable from inside a function\n",
    "    activation = tf_activation.eval(session=sess,feed_dict={x : image_input})\n",
    "    featuremaps = activation.shape[3]\n",
    "    plt.figure(plt_num, figsize=(15,15))\n",
    "    for featuremap in range(featuremaps):\n",
    "        plt.subplot(6,8, featuremap+1) # sets the number of feature maps to show on each row and column\n",
    "        plt.title('FeatureMap ' + str(featuremap)) # displays the feature map number\n",
    "        if activation_min != -1 & activation_max != -1:\n",
    "            plt.imshow(activation[0,:,:, featuremap], interpolation=\"nearest\", vmin =activation_min, vmax=activation_max, cmap=\"gray\")\n",
    "        elif activation_max != -1:\n",
    "            plt.imshow(activation[0,:,:, featuremap], interpolation=\"nearest\", vmax=activation_max, cmap=\"gray\")\n",
    "        elif activation_min !=-1:\n",
    "            plt.imshow(activation[0,:,:, featuremap], interpolation=\"nearest\", vmin=activation_min, cmap=\"gray\")\n",
    "        else:\n",
    "            plt.imshow(activation[0,:,:, featuremap], interpolation=\"nearest\", cmap=\"gray\")\n",
    "            \n",
    "\n",
    "image_input = apply_pre_process(np.array([X_train_original[index]]))\n",
    "print(image_input.shape)\n",
    "outputFeatureMap(image_input,tf.Variable(tf.truncated_normal([5, 5, 1, 6], mean = 0, stddev = .1)))\n"
   ]
  },
  {
   "cell_type": "markdown",
   "metadata": {},
   "source": [
    "https://arxiv.org/pdf/1604.04004.pdf  \n",
    "\n",
    "https://machinelearningmastery.com/gentle-introduction-to-the-bias-variance-trade-off-in-machine-learning/"
   ]
  },
  {
   "cell_type": "code",
   "execution_count": null,
   "metadata": {
    "collapsed": true
   },
   "outputs": [],
   "source": []
  }
 ],
 "metadata": {
  "anaconda-cloud": {},
  "kernelspec": {
   "display_name": "Python 3",
   "language": "python",
   "name": "python3"
  },
  "language_info": {
   "codemirror_mode": {
    "name": "ipython",
    "version": 3
   },
   "file_extension": ".py",
   "mimetype": "text/x-python",
   "name": "python",
   "nbconvert_exporter": "python",
   "pygments_lexer": "ipython3",
   "version": "3.5.2"
  },
  "widgets": {
   "state": {},
   "version": "1.1.2"
  }
 },
 "nbformat": 4,
 "nbformat_minor": 1
}
